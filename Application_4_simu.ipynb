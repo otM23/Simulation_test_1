{
 "cells": [
  {
   "cell_type": "code",
   "execution_count": 1,
   "metadata": {},
   "outputs": [
    {
     "data": {
      "application/javascript": [
       "$.getScript('ipython_notebook_toc.js')\n"
      ],
      "text/plain": [
       "<IPython.core.display.Javascript object>"
      ]
     },
     "metadata": {},
     "output_type": "display_data"
    }
   ],
   "source": [
    "%%javascript\n",
    "$.getScript('ipython_notebook_toc.js')"
   ]
  },
  {
   "cell_type": "markdown",
   "metadata": {},
   "source": [
    "[comment]: <> (emsp;&emsp;&emsp;&emsp;&emsp;&emsp;&emsp;&emsp;&emsp;&emsp;&emsp;&emsp;&emsp;&emsp;&emsp;&emsp;&emsp;&emsp;&emsp;&emsp;&emsp;&emsp;&emsp;&emsp;&emsp;&emsp;&emsp;&emsp;&emsp;&emsp;&emsp;&emsp;&emsp;&emsp;&emsp; ### <left>ESTP-Cachan </left>  <right> ESTP-Cachan </right> )\n",
    "\n",
    "<div style=\"float: left; margin-right: 20px;font-size:20px\" ><b> ESTP-Cachan </b></div> <div style=\"float: right; margin-right: 20px;font-size:20px\" ><b> Février 2020 </b></div>\n",
    "&nbsp;\n",
    "<hr> </hr>\n",
    "\n",
    "<div style=\"text-align: center;font-size:30px;font-weight:bold\"> Application 4 : simulation </div>\n",
    "<hr> </hr>\n",
    "\n",
    "\n",
    "[comment]: <> (# <div style=\"text-align: left\"> your-text-here</div> <div style=\"text-align: right\"> your-text-here </div> <a href=\"https://en.wikipedia.org\">click me</a> we have three types of horizontal rules ---- ; _____ ; ***** and we can also do tables)  \n",
    "   "
   ]
  },
  {
   "cell_type": "markdown",
   "metadata": {},
   "source": [
    "<div style=\"float: left; margin-right: 20px;font-size:27px;font-weight:bold\" id=\"tocheading\">Table of Contents</div>\n",
    "<div style=\"height:30px\" id=\"spacebeforetoc\"> </div>\n",
    "<div style=\"font-size:20px;font-weight:bold\" id=\"toc\"></div>"
   ]
  },
  {
   "cell_type": "markdown",
   "metadata": {},
   "source": [
    "<div style=\"float: left; margin-right: 20px;font-size:27px;font-weight:bold\" id=\"tocheading\">Importer les packages (obligatoire)</div>"
   ]
  },
  {
   "cell_type": "code",
   "execution_count": 2,
   "metadata": {},
   "outputs": [],
   "source": [
    "import numpy as np\n",
    "import matplotlib.pyplot as plt"
   ]
  },
  {
   "cell_type": "markdown",
   "metadata": {},
   "source": [
    "# Exercice 1: simulation loi Binomiale"
   ]
  },
  {
   "cell_type": "markdown",
   "metadata": {},
   "source": [
    "Le but de cette application est de simuler des réalisations de plusieurs variables aléatoires à partir d'une loi uniforme sur $[0,1]$.\n",
    "\n",
    "On commence donc par présenter comment simuler des réalisations d'une loi uniforme sur $[0,1]$."
   ]
  },
  {
   "cell_type": "code",
   "execution_count": 3,
   "metadata": {},
   "outputs": [
    {
     "name": "stdout",
     "output_type": "stream",
     "text": [
      "[0.45141147 0.819125   0.50877184 0.753212   0.93427769 0.27312071]\n"
     ]
    }
   ],
   "source": [
    "nb_var = 6 ## nombre de réalisations de la loi uniforme.\n",
    "u = np.random.rand(nb_var)\n",
    "print(u)"
   ]
  },
  {
   "cell_type": "markdown",
   "metadata": {},
   "source": [
    "1. Soit $X$ une variable aléatoire suivant une loi de Bernoulli de paramètre $p \\in [0,1]$. Proposer un algorithme pour simuler $X$ et implémenter une fonction ``Simu_Bernoulli`` qui simule $n$ réalisations de $X$."
   ]
  },
  {
   "cell_type": "code",
   "execution_count": 4,
   "metadata": {},
   "outputs": [
    {
     "name": "stdout",
     "output_type": "stream",
     "text": [
      " On obtient les 6 réalisations suivantes pour X : [0 0 1 0 0 1] \n"
     ]
    }
   ],
   "source": [
    "def Simu_Bernoulli(p, n):\n",
    "    u = np.random.rand(n)\n",
    "    return (u <= p).astype('int32')\n",
    "p = 0.5\n",
    "n = 6\n",
    "print(\" On obtient les %i réalisations suivantes pour X : %s \" %(n,Simu_Bernoulli(p, n)))"
   ]
  },
  {
   "cell_type": "markdown",
   "metadata": {},
   "source": [
    "2. Soit $Y$ une variable aléatoire suivant une loi Binomiale de paramètre $n \\in \\mathbb{N}^*$ et $p \\in [0,1]$. En utilisant le résultat de la première question, implémenter une fonction ``Simu_Bino`` qui prend $n$ réalisations de $X$ et qui renvoie une réalisation de $Y$. Tester la."
   ]
  },
  {
   "cell_type": "code",
   "execution_count": 5,
   "metadata": {},
   "outputs": [
    {
     "name": "stdout",
     "output_type": "stream",
     "text": [
      " On obtient la réalisation suivante pour Y : 3 \n"
     ]
    }
   ],
   "source": [
    "def Simu_Bino(X):\n",
    "    return X.sum()\n",
    "p = 0.5\n",
    "n = 6\n",
    "print(\" On obtient la réalisation suivante pour Y : %s \" %(Simu_Bino(Simu_Bernoulli(p, n))))"
   ]
  },
  {
   "cell_type": "markdown",
   "metadata": {},
   "source": [
    "3. On considère le jeu suivant: vous lancez $1000$ fois une pièce de monnaie non-biaisée en l'air et à chaque fois que vous obtenez face vous remportez $10$ centimes. Grâce à la question précédente, écrire une fonction ``Gain_moyen`` qui permet d'estimer votre gain moyen. Comparer l'estimation à la valeur théorique. "
   ]
  },
  {
   "cell_type": "code",
   "execution_count": 6,
   "metadata": {},
   "outputs": [
    {
     "name": "stdout",
     "output_type": "stream",
     "text": [
      " Le gain estimé est 50.009 alors que le gain théorique vaut 50.00\n"
     ]
    }
   ],
   "source": [
    "def Gain_moyen():\n",
    "    res = 0\n",
    "    for i in range(500):\n",
    "        nb_pile = Simu_Bino(Simu_Bernoulli(0.5, 1000)) \n",
    "        res += nb_pile*0.1    \n",
    "    return res/500\n",
    "gain_approx = Gain_moyen()\n",
    "gain_theo = 0.5*1000*0.1\n",
    "print(\" Le gain estimé est %3.3f alors que le gain théorique vaut %3.2f\" %(gain_approx,gain_theo))"
   ]
  },
  {
   "cell_type": "markdown",
   "metadata": {},
   "source": [
    "4. On reprend le même jeu. En utilisant la question 2, écrire la fonction ``Plus_que_52`` qui estime la probabilité de gagner plus que $52$ euros. Que remarquez-vous?"
   ]
  },
  {
   "cell_type": "code",
   "execution_count": 7,
   "metadata": {},
   "outputs": [
    {
     "name": "stdout",
     "output_type": "stream",
     "text": [
      " Le gain estimé est 0.094.\n"
     ]
    }
   ],
   "source": [
    "def Plus_que_52():\n",
    "    res = 0.\n",
    "    for i in range(500):\n",
    "        nb_pile = Simu_Bino(Simu_Bernoulli(0.5, 1000)) \n",
    "        res += ((nb_pile*0.1) >= 52)\n",
    "    return res/500.\n",
    "proba_approx = Plus_que_52()\n",
    "print(\" Le gain estimé est %3.3f.\" %proba_approx)"
   ]
  },
  {
   "cell_type": "markdown",
   "metadata": {},
   "source": [
    "# Exercice 2: simulation loi Géométrique"
   ]
  },
  {
   "cell_type": "markdown",
   "metadata": {},
   "source": [
    "Le but de cet exercice est d'apprendre à simuler une variable aléatoire $X$ suivant une loi de Géométrique de paramètre $p \\in [0,1]$. En utilisant que $X$ correspond aux nombre de répétitions nécessaires d'une variable de Bernoulli pour obtenir un succès, proposer un algorithme ``Simu_Geo1`` qui simule une réalisation de $X$."
   ]
  },
  {
   "cell_type": "code",
   "execution_count": 8,
   "metadata": {},
   "outputs": [
    {
     "name": "stdout",
     "output_type": "stream",
     "text": [
      " On obtient la réalisation suivante pour Y : 2 \n"
     ]
    }
   ],
   "source": [
    "def Simu_Geo1(p):\n",
    "    count = 1\n",
    "    u = np.random.rand() ## uniforme\n",
    "    b = u<= p ## bernoulli\n",
    "    while b == 0:\n",
    "        u = np.random.rand() ## uniforme\n",
    "        b = u<= p ## bernoulli  \n",
    "        count += 1\n",
    "    return count\n",
    "p = 0.5\n",
    "print(\" On obtient la réalisation suivante pour Y : %s \" % Simu_Geo1(p) )"
   ]
  },
  {
   "cell_type": "markdown",
   "metadata": {},
   "source": [
    "2. Soit $U$ une variable uniforme sur $[0,1]$. Montrer que \n",
    "$$\n",
    "X' = 1 + \\lfloor \\cfrac{\\ln(U)}{\\ln(1-p)} \\rfloor,\n",
    "$$\n",
    "suit une loi de Géométrique de paramètre $p$."
   ]
  },
  {
   "cell_type": "markdown",
   "metadata": {},
   "source": [
    "3. En utilisant la question précédente, proposer une fonction ``Simu_Geo2`` qui produit $n$ réalisations de $X$."
   ]
  },
  {
   "cell_type": "code",
   "execution_count": 9,
   "metadata": {},
   "outputs": [
    {
     "name": "stdout",
     "output_type": "stream",
     "text": [
      " On obtient les 6 réalisations suivantes pour X : [2 1 1 1 1 1] \n"
     ]
    }
   ],
   "source": [
    "def Simu_Geo2(p, n):\n",
    "    u = np.random.rand(n)\n",
    "    return 1 + (np.log(u)/np.log(1-p)).astype('int32')\n",
    "p = 0.5\n",
    "n = 6\n",
    "print(\" On obtient les %i réalisations suivantes pour X : %s \" %(n,Simu_Geo2(p, n)))"
   ]
  },
  {
   "cell_type": "markdown",
   "metadata": {},
   "source": [
    "4. Le vecteur $e_0$ ci-dessous contient $200$ réalisations d'une variable $X$ suivant une loi Géométrique dont on ne connait pas le paramètre $p \\in [0,1]$. Ecrire une fonction ``Estim_p`` qui permet d'estimer $p$ à partir de $e_0$."
   ]
  },
  {
   "cell_type": "code",
   "execution_count": 10,
   "metadata": {},
   "outputs": [],
   "source": [
    "e_0 = np.array([5,7,1,3,1,2,3,4,2,3,7,1,4,2,4,3,5,7,4,2,2,8,3,4,14,7,1,2,2,2,1,1,7,1,5,5,4,2,1,3,6,2,1,1,\n",
    "                3,9,3,8,4,1,2,1,1,1,4,6,2,10,3,1,3,1,4,5,2,4,2,4,4,1,1,1,6,1,2,2,3,4,12,3,1,2,4,1,1,2,4,2,\n",
    "                5,2,1,3,2,1,5,1,5,5,6,2,2,3,2,1,2,8,3,1,10,1,1,1,3,1,1,3,6,1,5,4,3,2,2,1,1,3,1,5,11,1,1,1,\n",
    "                2,13,4,4,3,13,1,1,5,2,1,1,1,10,4,2,3,1,2,2,3,7,1,1,2,1,3,1,2,3,1,1,1,2,4,6,1,5,15,2,2,2,5,\n",
    "                1,1,4,3,2,5,2,1,2,3,9,1,1,1,4,2,5,7,3,1,6,1,2,1,7])"
   ]
  },
  {
   "cell_type": "code",
   "execution_count": 11,
   "metadata": {},
   "outputs": [
    {
     "name": "stdout",
     "output_type": "stream",
     "text": [
      " La valeur estimée pour p est 0.310.\n"
     ]
    }
   ],
   "source": [
    "def Estim_p(e_0):\n",
    "    return 1/e_0.mean()\n",
    "estimated_p = Estim_p(e_0)\n",
    "print(\" La valeur estimée pour p est %3.3f.\" % estimated_p)"
   ]
  },
  {
   "cell_type": "markdown",
   "metadata": {},
   "source": [
    "# Exercice 3: simulation loi de Poisson"
   ]
  },
  {
   "cell_type": "markdown",
   "metadata": {},
   "source": [
    "1. Dans cet exercice, on souhaite simuler une variable $N$ suivant une loi de Poisson de paramètre $ \\lambda > 0$. Soit $(Y_i)_{i\\geq 1}$ des variables Exponentielles indépendantes de paramètre $\\lambda$. Montrer que \n",
    "$$\n",
    "N_1 = \\inf\\{i ; \\; \\sum_{j \\leq i +1} Y_j \\geq 1 \\},\n",
    "$$\n",
    "suit une loi de Poisson de paramètre $\\lambda$. "
   ]
  },
  {
   "cell_type": "markdown",
   "metadata": {},
   "source": [
    "2. En utilisant que $- \\cfrac{\\ln(U)}{\\lambda} $ suit une loi Exponentielle de paramètre $\\lambda$ pour toute variable $U$ sur $[0,1]$. Montrer que \n",
    "$$\n",
    "N_2 = \\inf\\{i ; \\; \\prod_{j \\leq i +1} U_j \\leq e^{-\\lambda} \\},\n",
    "$$\n",
    "suit une loi de Poisson de paramètre $\\lambda$ avec $(U_i)_{i\\geq 1} $ des variables indépendantes toutes de loi uniforme sur $[0,1]$. "
   ]
  },
  {
   "cell_type": "markdown",
   "metadata": {},
   "source": [
    "3. En utilisant la question précédente, écrire une fonction ``Simu_Poisson`` qui simule une réalisation de $N$."
   ]
  },
  {
   "cell_type": "code",
   "execution_count": 12,
   "metadata": {},
   "outputs": [
    {
     "name": "stdout",
     "output_type": "stream",
     "text": [
      " On obtient la réalisation suivante pour N : 0 \n"
     ]
    }
   ],
   "source": [
    "def Simu_Poisson(lambda_0):\n",
    "    count = 0\n",
    "    prod_cum = np.random.rand()\n",
    "    seuil = np.exp(-lambda_0)\n",
    "    while prod_cum > seuil:\n",
    "        prod_cum *= np.random.rand()\n",
    "        count += 1\n",
    "    return count\n",
    "lambda_0 = 1\n",
    "print(\" On obtient la réalisation suivante pour N : %s \" % Simu_Poisson(lambda_0) )"
   ]
  },
  {
   "cell_type": "markdown",
   "metadata": {},
   "source": [
    "# Exercice 4: simulation loi uniforme"
   ]
  },
  {
   "cell_type": "markdown",
   "metadata": {},
   "source": [
    "1. On veut simuler, dans cet exercice, une variable $X$ suivant une loi uniforme sur $\\{0,\\ldots,m-1\\}$ avec $m \\in \\mathbb{N}^*$. Pour ce faire, on s'aide d'une variable $U$ uniforme sur $[0,1]$.\n",
    "    1. Montrer que \n",
    "$$\n",
    "X_1 = \\lfloor m U \\rfloor,\n",
    "$$\n",
    "suit la même loi que $X$. \n",
    "    2. En utilisant la question précédente, proposer une fonction ``Simu_U_m`` qui simule $n$ réalisations de $X$."
   ]
  },
  {
   "cell_type": "code",
   "execution_count": 13,
   "metadata": {},
   "outputs": [
    {
     "name": "stdout",
     "output_type": "stream",
     "text": [
      " On obtient les 6 réalisations suivantes pour X : [1 0 0 2 1 4] \n"
     ]
    }
   ],
   "source": [
    "def Simu_U_m(m,n):\n",
    "    u = np.random.rand(n)\n",
    "    return (m * u).astype('int32')\n",
    "m = 7\n",
    "n = 6\n",
    "print(\" On obtient les %i réalisations suivantes pour X : %s \" %(n,Simu_U_m(m,n)))"
   ]
  },
  {
   "cell_type": "markdown",
   "metadata": {},
   "source": [
    "2. On souhaite maintenant simuler une variable $Y$ suivant une loi uniforme sur l'ensemble $\\{a,\\ldots,b\\}$ avec $a < b \\in \\mathbb{Z}$. Pour ce faire, on utilise une variable $U$ uniforme sur $[0,1]$.\n",
    "    1. Montrer que \n",
    "$$\n",
    "X_1 = a + \\lfloor (b-a+1) \\times U \\rfloor,\n",
    "$$\n",
    "suit la même loi que $Y$. \n",
    "    2. En utilisant la question précédente, proposer une fonction ``Simu_U_ab`` qui simule $n$ réalisations de $Y$."
   ]
  },
  {
   "cell_type": "code",
   "execution_count": 14,
   "metadata": {},
   "outputs": [
    {
     "name": "stdout",
     "output_type": "stream",
     "text": [
      " On obtient les 6 réalisations suivantes pour X : [ 5 -3 -1  4  4  3] \n"
     ]
    }
   ],
   "source": [
    "def Simu_U_ab(a,b,n):\n",
    "    u = np.random.rand(n)\n",
    "    return a + ((b-a+1) * u).astype('int32')\n",
    "a,b = -3,7\n",
    "n = 6\n",
    "print(\" On obtient les %i réalisations suivantes pour X : %s \" %(n,Simu_U_ab(a,b, n)))"
   ]
  },
  {
   "cell_type": "markdown",
   "metadata": {},
   "source": [
    "3. On aimerait enfin simuler une variable $Z$ suivant une loi uniforme sur $[a,b]$ avec $a < b \\in \\mathbb{R}$. Pour ce faire, on recourt encore une fois à une variable $U$ uniforme sur $[0,1]$.\n",
    "    1. Montrer que \n",
    "$$\n",
    "Z_1 = a +  (b-a) \\times U ,\n",
    "$$\n",
    "suit la même loi que $Z$. \n",
    "    2. En utilisant la question précédente, proposer une fonction ``Simu_U_abr`` qui simule $n$ réalisations de $Z$."
   ]
  },
  {
   "cell_type": "code",
   "execution_count": 15,
   "metadata": {},
   "outputs": [
    {
     "name": "stdout",
     "output_type": "stream",
     "text": [
      " On obtient les 6 réalisations suivantes pour X : [ 1.386 -1.414  4.963  3.968  0.306 -1.591] \n"
     ]
    }
   ],
   "source": [
    "def Simu_U_abr(a,b,n):\n",
    "    u = np.random.rand(n)\n",
    "    return a + ((b-a) * u)\n",
    "a,b = -3,7\n",
    "n = 6\n",
    "print(\" On obtient les %i réalisations suivantes pour X : %s \" %(n,Simu_U_abr(a,b, n).round(3)))"
   ]
  },
  {
   "cell_type": "markdown",
   "metadata": {},
   "source": [
    "# Exercice 5: simulation d'une loi discrète"
   ]
  },
  {
   "cell_type": "markdown",
   "metadata": {},
   "source": [
    "1. L'objectif de cet exercice est de simuler une variable discrète $D$ à valeurs dans un ensemble fini $\\{x_0,\\ldots,x_m\\}$ tel que \n",
    "$$\n",
    "\\mathbb{P}[X =  x_i ] = p_i, \\qquad  \\forall i \\in \\{0,\\ldots, m\\}.\n",
    "$$\n",
    "\n",
    "\n",
    "* Soit $U$ une variable aléatoire uniforme sur $[0,1]$. Montrer que\n",
    "\\begin{align*}\n",
    "D_1 & = \\sum_{i \\leq m} x_i \\mathbf{1}_{p_1+ \\ldots + p_{i-1} < U \\leq p_1+ \\ldots + p_i}\\\\\n",
    "    & = x_0\\mathbf{1}_{U \\leq p_0} + x_1 \\mathbf{1}_{p_0 < U \\leq p_0 + p_1}+ \\ldots + x_i \\mathbf{1}_{p_1 + \\ldots + p_{i-1} < U \\leq p_1+ \\ldots + p_i} + \\ldots x_m \\mathbf{1}_{p_1 + \\ldots + p_{m-1} < U \\leq 1},\n",
    "\\end{align*}\n",
    "admet la même distribution que $D$. "
   ]
  },
  {
   "cell_type": "markdown",
   "metadata": {},
   "source": [
    "2. Déduire de la question précédente une fonction ``Simu_D`` qui simule une réalisations de $D$."
   ]
  },
  {
   "cell_type": "code",
   "execution_count": 16,
   "metadata": {},
   "outputs": [
    {
     "name": "stdout",
     "output_type": "stream",
     "text": [
      " On obtient la réalisation suivante pour D : 0.40 \n"
     ]
    }
   ],
   "source": [
    "def Simu_D(x,p):\n",
    "    '''\n",
    "    x : the vector of values \n",
    "    p : the vector of probabilities\n",
    "    '''\n",
    "    count = 0\n",
    "    u = np.random.rand()\n",
    "    cum_sum = p[count]\n",
    "    while u > cum_sum:\n",
    "        count += 1\n",
    "        cum_sum += p[count]\n",
    "    return x[count]\n",
    "x = [0, 0.4, 2.4, 32, 47, 50]\n",
    "p = [0.1, 0.2, 0.1 , 0.2, 0.3, 0.1]\n",
    "print(\" On obtient la réalisation suivante pour D : %3.2f \" % Simu_D(x,p) )"
   ]
  },
  {
   "cell_type": "markdown",
   "metadata": {},
   "source": [
    "3. La méthode utilisée ressemble-t-elle à autre technique de simulation? Quelle est la relation entre les deux?"
   ]
  },
  {
   "cell_type": "markdown",
   "metadata": {},
   "source": [
    "# Exercice 6: inversion de la fonction de répartition"
   ]
  },
  {
   "cell_type": "markdown",
   "metadata": {},
   "source": [
    "Le but de cet exercice est de simuler plusieurs variables aléatoires en utilisant la méthode d'inversion de la fonction de répartition. Pour ce faire, on se donne une variable uniforme $U$.\n",
    "\n",
    "1. Rappeler le principe de la méthode d'inversion de la fonction de répartition\n",
    "\n",
    "2. **Simulation d'une loi exponentielle:** Soit $X$ une variable aléatoire suivant une loi Exponentielle de paramètre $\\lambda > 0 $.\n",
    "    1. Donner la fonction de répartition de $X$.\n",
    "    2. Calculer l'inverse de la fonction de répartition.\n",
    "    3. En utilisant la méthode d'inversion de la fonction de répartition, montrer que\n",
    "$$\n",
    "X_1 = -\\cfrac{\\ln(U)}{\\lambda},\n",
    "$$\n",
    "       admet la même distribution que $X$. \n",
    "    4. Programmer une fonction ``Simu_Expo`` qui génère $n$ réalisations de $X$."
   ]
  },
  {
   "cell_type": "code",
   "execution_count": 17,
   "metadata": {},
   "outputs": [
    {
     "name": "stdout",
     "output_type": "stream",
     "text": [
      " On obtient les 6 réalisations suivantes pour X : [1.000e-03 5.180e-01 1.068e+00 7.790e-01 6.980e-01 1.530e-01] \n"
     ]
    }
   ],
   "source": [
    "def Simu_Expo(lambda_0,n):\n",
    "    u = np.random.rand(n)\n",
    "    return - np.log(u)/lambda_0\n",
    "lambda_0 = 3\n",
    "n = 6\n",
    "print(\" On obtient les %i réalisations suivantes pour X : %s \" %(n,Simu_Expo(lambda_0,n).round(3)))"
   ]
  },
  {
   "cell_type": "markdown",
   "metadata": {},
   "source": [
    "2. **Simulation d'une loi de Cauchy:** Soit $Y$ une variable aléatoire suivant une loi de Cauchy, i.e. la densité de $X$ vaut \n",
    "$$\n",
    "f_X(x) = \\cfrac{c}{\\pi (x^2 + c^2)}, \\quad \\forall x \\in \\mathbb{R},\n",
    "$$\n",
    "avec $c > 0 $.\n",
    "    1. Donner la fonction de répartition de $X$.\n",
    "    2. Calculer l'inverse de la fonction de répartition.\n",
    "    3. En utilisant la méthode d'inversion de la fonction de répartition, montrer que\n",
    "$$\n",
    "Y_1 = c \\tan(\\pi U),\n",
    "$$\n",
    "       admet la même distribution que $Y$. \n",
    "    4. Programmer une fonction ``Simu_Cauchy`` qui génère $n$ réalisations de $Y$."
   ]
  },
  {
   "cell_type": "code",
   "execution_count": 18,
   "metadata": {},
   "outputs": [
    {
     "name": "stdout",
     "output_type": "stream",
     "text": [
      " On obtient les 6 réalisations suivantes pour X : [ 1.684  0.586 -4.437 -8.483 -0.256  1.081] \n"
     ]
    }
   ],
   "source": [
    "def Simu_Cauchy(c,n):\n",
    "    u = np.random.rand(n)\n",
    "    return c * np.tan( np.pi * u )\n",
    "c = 1\n",
    "n = 6\n",
    "print(\" On obtient les %i réalisations suivantes pour X : %s \" %(n,Simu_Cauchy(c,n).round(3)))"
   ]
  },
  {
   "cell_type": "markdown",
   "metadata": {},
   "source": [
    "2. **Simulation d'une loi de Pareto:** Soit $Z$ une variable aléatoire suivant une loi de Pareto, i.e. la densité de $Z$ vaut \n",
    "$$\n",
    "f_Z(x) = \\cfrac{\\theta}{x^{1+\\theta}}, \\quad \\forall x \\geq 1,\n",
    "$$\n",
    "avec $\\theta > 0 $.\n",
    "    1. Donner la fonction de répartition de $X$.\n",
    "    2. Calculer l'inverse de la fonction de répartition.\n",
    "    3. En utilisant la méthode d'inversion de la fonction de répartition, montrer que\n",
    "$$\n",
    "Z_1 = U^{-1/\\theta},\n",
    "$$\n",
    "       admet la même distribution que $Z$. \n",
    "    4. Programmer une fonction ``Simu_Pareto`` qui génère $n$ réalisations de $Z$."
   ]
  },
  {
   "cell_type": "code",
   "execution_count": 19,
   "metadata": {},
   "outputs": [
    {
     "name": "stdout",
     "output_type": "stream",
     "text": [
      " On obtient les 6 réalisations suivantes pour X : [ 2.948 20.628  6.284  1.086  2.463  2.199] \n"
     ]
    }
   ],
   "source": [
    "def Simu_Pareto(theta,n):\n",
    "    u = np.random.rand(n)\n",
    "    return ( u**(-1/theta) )\n",
    "theta = 1\n",
    "n = 6\n",
    "print(\" On obtient les %i réalisations suivantes pour X : %s \" %(n,Simu_Pareto(theta,n).round(3)))"
   ]
  },
  {
   "cell_type": "markdown",
   "metadata": {},
   "source": [
    "# Exercice 7: simulation par la méthode de rejet"
   ]
  },
  {
   "cell_type": "markdown",
   "metadata": {},
   "source": [
    "Dans cet exercice, on veut simuler certaines variables aléatoires en utilisant la méthode de rejet. Pour ce faire, on se donne une variable uniforme $U$.\n",
    "\n",
    "1. **Simulation d'une variable:** Soit $X$ une variable aléatoire suivant une loi $\\Gamma(3/2,1)$, i.e. la densité de $X$ vaut \n",
    "$$\n",
    "f_X(x) = \\cfrac{2}{\\sqrt{\\pi}} x^{1/2} e^{-x}, \\quad \\forall x \\geq 0.\n",
    "$$\n",
    "On veut simuler cette variable par la méthode de rejet en utilisant une variable Exponentielle $Y$ dont la densité vaut \n",
    "$$\n",
    "f_Y(x) = \\lambda e^{- \\lambda x}, \\quad \\forall x \\geq 0,\n",
    "$$\n",
    "avec $\\lambda > 0 $.\n",
    "    1. Montrer que\n",
    "    $$\n",
    "    c(\\lambda) = \\sup_{x \\geq 0} \\cfrac{f_X(x)}{f_Y(x)} = \\left\\{\n",
    "    \\begin{array}{ll}\n",
    "    + \\infty & \\text{ si } \\lambda> 1,\\\\\n",
    "    \\cfrac{2e^{-1/2}}{\\sqrt{2 \\pi \\lambda^2 (1-\\lambda)} }& \\text{ si } \\lambda \\in ]0,1].\n",
    "    \\end{array}\n",
    "    \\right.\n",
    "    $$\n",
    "    2. Trouver $\\lambda_m$ qui minimise $c(\\lambda)$. \n",
    "    3. Déduire de la question précédente la loi Exponentielle à utiliser pour simuler $X$ et écrire fonction ``Simu_Rejet`` qui simule une réalisation de $X$."
   ]
  },
  {
   "cell_type": "code",
   "execution_count": 20,
   "metadata": {},
   "outputs": [
    {
     "name": "stdout",
     "output_type": "stream",
     "text": [
      " On obtient la réalisation suivante pour X : 0.87 \n"
     ]
    }
   ],
   "source": [
    "def f_x(x): \n",
    "    return 2 * x**(1/2) * np.exp(-x) / (np.sqrt(np.pi ))\n",
    "\n",
    "def f_y(x): \n",
    "    return 2/3 * np.exp(-2/3 * x)\n",
    "\n",
    "def Simu_Rejet(f_x,f_y,c,gen_x):\n",
    "    '''\n",
    "    f_x : densité de X\n",
    "    f_x : densité de Y \n",
    "    c : constante de la méthode de rejet\n",
    "    gen_x :  fonction qui génère X\n",
    "    '''\n",
    "    u = np.random.rand()\n",
    "    y = gen_x()\n",
    "    while c * u * f_x(y) > f_y(y):\n",
    "        u = np.random.rand()\n",
    "        y = gen_x()\n",
    "    return y\n",
    "\n",
    "lambda_star = 2/3\n",
    "gen_x = lambda : Simu_Expo(lambda_star,1)[0]\n",
    "c = 3**(3/2) * np.exp(-1/2) / (np.sqrt( 2 * np.pi ))\n",
    "print(\" On obtient la réalisation suivante pour X : %3.2f \" % Simu_Rejet(f_x,f_y,c,gen_x) )"
   ]
  },
  {
   "cell_type": "markdown",
   "metadata": {},
   "source": [
    "2. **Simulation d'une loi Gaussienne:** Soit $Z$ une variable aléatoire suivant une loi normale centrée réduite, i.e. la densité de $Z$ vaut \n",
    "$$\n",
    "f_Z(x) = \\cfrac{1}{\\sqrt{2\\pi}} e^{-x^2/2}, \\quad \\forall x \\in \\mathbb{R}.\n",
    "$$\n",
    "On veut simuler cette variable par la méthode de rejet en utilisant la loi double exponentielle $W$ dont la densité vaut \n",
    "$$\n",
    "f_W(x) = \\cfrac{1}{2} e^{- |x|}, \\quad \\forall x \\in \\mathbb{R}.\n",
    "$$\n",
    "    1. Montrer que\n",
    "    $$\n",
    "    c = \\sup_{x \\in \\mathbb{R}} \\cfrac{f_Z(x)}{f_W(x)} = \\sqrt{\\cfrac{2e}{\\pi}}.\n",
    "    $$\n",
    "    2. Soit $E$ une variable exponentielle de paramètre $\\lambda =1$ et $B$ une variable de Bernoulli de paramètre $ p= 1/2$. Montrer que\n",
    "    $$\n",
    "    W_1 = (2 B - 1) \\times E ,\n",
    "    $$\n",
    "    suit la même loi que $W$.\n",
    "    3. En utilisant les questions précédentes, proposer une fonction ``Simu_Rejet_G`` qui simule une réalisation de $Z$."
   ]
  },
  {
   "cell_type": "code",
   "execution_count": 21,
   "metadata": {},
   "outputs": [
    {
     "name": "stdout",
     "output_type": "stream",
     "text": [
      " On obtient la réalisation suivante pour Z : 0.32 \n"
     ]
    }
   ],
   "source": [
    "def f_z(x): \n",
    "    return  np.exp(-x*x/2) / (np.sqrt(2 * np.pi ))\n",
    "\n",
    "def f_w(x): \n",
    "    return 0.5*np.exp(-abs(x))\n",
    "\n",
    "def gen_w():\n",
    "    b = Simu_Bernoulli(0.5, 1)[0]\n",
    "    e = Simu_Expo(1,1)[0]\n",
    "    return (2*b -1) * e\n",
    "    \n",
    "def Simu_Rejet_G():\n",
    "    c = np.sqrt( 2 * np.exp(1)/ np.pi )\n",
    "    y = Simu_Rejet(f_z,f_w,c,gen_w)\n",
    "    return y\n",
    "print(\" On obtient la réalisation suivante pour Z : %3.2f \" % Simu_Rejet_G() )"
   ]
  },
  {
   "cell_type": "markdown",
   "metadata": {},
   "source": [
    "# Exercice 8: simulation d'un vecteur Gaussien"
   ]
  },
  {
   "cell_type": "markdown",
   "metadata": {},
   "source": [
    "Dans cet exercice, on présente une méthode pour simuler des vecteurs Gaussiens. \n",
    "\n",
    "1. **Simulation de plusieurs Gaussiennes indépendantes:** On souhaite simuler $X = (X_1,X_2)$ deux variables Gaussiennes indépendantes. Pour ce faire, on utilise $R$ une variable exponentielle $1/2$ de paramètre et $\\theta$ une variable uniforme sur $[0,2 \\pi]$.\n",
    "    1. Montrer que\n",
    "    $$\n",
    "    \\big( \\sqrt(R) \\times \\cos(\\theta), \\sqrt{R} \\times \\sin(\\theta) \\big),\n",
    "    $$\n",
    "    suit la même loi que $X$.\n",
    "    2. Déduire de la question précédente, une fonction ``Simu_G2`` qui produit $2n$ réalisations de $X$."
   ]
  },
  {
   "cell_type": "code",
   "execution_count": 22,
   "metadata": {},
   "outputs": [
    {
     "name": "stdout",
     "output_type": "stream",
     "text": [
      " On obtient les 6 réalisations suivantes pour X : [ 2.056  0.064 -0.784  0.776 -0.708 -2.199] \n"
     ]
    }
   ],
   "source": [
    "def Simu_G2(n):\n",
    "    r = Simu_Expo(0.5,n)\n",
    "    theta  = Simu_U_abr(0,2 * np.pi,n)\n",
    "    x_1 = np.sqrt(r) * np.cos(theta)\n",
    "    x_2 = np.sqrt(r) * np.sin(theta)\n",
    "    return np.concatenate([x_1 , x_2])\n",
    "n= 3\n",
    "print(\" On obtient les %i réalisations suivantes pour X : %s \" % (2*n,Simu_G2(n).round(3)) )"
   ]
  },
  {
   "cell_type": "markdown",
   "metadata": {},
   "source": [
    "2. **Simulation d'un vecteur Gaussien 1:** Soit $m \\in \\mathbb{N}^*$. On souhaite simuler un vecteur Gaussien $X = (X_1,\\ldots,X_m)$ de moyenne $m \\in \\mathbb{R}^d$ et de matrice de covariance $\\Sigma = (\\mathrm{Cov}(X_i,X_j))_{1\\leq i,j \\leq m}$ inversible, i.e. la densité de $X$ vaut \n",
    "$$\n",
    "f_X(x) = \\cfrac{1}{\\sqrt{2 \\pi}^{m/2} \\sqrt{det(\\Sigma)}} e^{- (x - m)^{\\top} \\Sigma^{-1} (x-m)/2 }, \\qquad \\forall x =  (x_1,\\ldots,x_m) \\in \\mathbb{R}^m.\n",
    "$$\n",
    "Pour ce faire, on suppose qu'on sait simuler $Y = (Y_1,\\ldots,Y_m) $ des variables gaussiennes centrées réduites indépendantes.\n",
    "    1. Soit $A$ une matrice et $b$ un vecteur. Montrer que\n",
    "    $$\n",
    "    b + A Y,\n",
    "    $$\n",
    "    est un vecteur Gaussien de moyenne $b$ et de matrice de covariance $A A^{\\top}$.\n",
    "    2. Montrer que $\\Sigma$ est symétrique positive, i.e. \n",
    "    $$\n",
    "    \\Sigma_{i,j} = \\Sigma_{j,i}, \\qquad x^{\\top } \\Sigma x \\geq 0, \\quad \\forall x \\in \\mathbb{R}^m.\n",
    "     $$\n",
    "    En déduire l'existence d'une matrice $L$ tel que \n",
    "    $$\n",
    "    \\Sigma =  L L^{\\top}.\n",
    "    $$\n",
    "    3. En utilisant la question précédente, écrire une fonction ``Simu_VG`` qui produit une réalisation de $X$."
   ]
  },
  {
   "cell_type": "code",
   "execution_count": 23,
   "metadata": {},
   "outputs": [
    {
     "name": "stdout",
     "output_type": "stream",
     "text": [
      " On obtient la réalisation suivante pour X : [0.136 0.343 5.204] \n"
     ]
    }
   ],
   "source": [
    "def Simu_VG(m1, Sigma1):\n",
    "    n = m1.shape[0]\n",
    "    if n%2 == 0:\n",
    "        y = Simu_G2(int(n//2))\n",
    "    else:\n",
    "        y = Simu_G2(int((n+1)//2))[:n]\n",
    "    L1 = np.linalg.cholesky(Sigma1)\n",
    "    return m1 + np.dot(L1,y)\n",
    "m1 = np.array([1, - 2, 4])\n",
    "Sigma1  = np.array([[ 1, -1, 0],\n",
    "                    [ -1, 5, 6],\n",
    "                    [ 0,  6, 10]])\n",
    "print(\" On obtient la réalisation suivante pour X : %s \" % Simu_VG(m1, Sigma1).round(3) )"
   ]
  },
  {
   "cell_type": "markdown",
   "metadata": {},
   "source": [
    "2. **Simulation d'un vecteur Gaussien 2:** Soit $\\Delta > 0$ un pas de temps et $m \\in \\mathbb{N}^*$. On observe aux instants $t_0,\\ldots,t_m$ tel que \n",
    "$$\n",
    "t_i = i \\times \\Delta, \\qquad \\forall i \\in \\{0,\\ldots,m\\},\n",
    "$$\n",
    "des variables $W_{t_0},\\ldots, W_{t_m}$ où $W_{t_0} = 0$ et le vecteur $W = (W_{t_1},\\ldots, W_{t_m}) $ est Gaussien de moyenne nulle et de matrice de covariance \n",
    "$$\n",
    "\\Sigma_{i,j} = \\mathrm{Cov}(W_{t_i},W_{t_j}) = \\cfrac{1}{2} \\big(t_i^{2 H} + t_j^{2H} - |t_i - t_j|^{2H} \\big),\n",
    "$$\n",
    "avec $H \\in (0,1)$.\n",
    "    1. On se place dans le cas $H = 1/2$. Montrer que \n",
    "    $$\n",
    "    \\mathrm{Cov}\\big(W_{t_{i+1}} - W_{t_{i}},W_{t_{j+1}} - W_{t_{j}}\\big) = \n",
    "    \\left\\{\n",
    "    \\begin{array}{ll}\n",
    "    0 & \\text{ si } i \\ne j, \\\\\n",
    "    \\sqrt{t_{i+1} - t_{i}} & \\text{ si } i = j.\n",
    "    \\end{array}\n",
    "    \\right.\n",
    "    $$\n",
    "    2. Ecrire une fonction ``Simu_DeltaW`` qui simule une réalisation du vecteur $\\Delta W = (W_{t_1},\\ldots, W_{t_m} - W_{t_{m-1}}) $. \n",
    "    3. En utilisant les questions précédentes, proposer une fonction ``Simu_W1`` qui génère une réalisation de $W$ en utilisant $\\Delta W$."
   ]
  },
  {
   "cell_type": "code",
   "execution_count": 24,
   "metadata": {},
   "outputs": [
    {
     "name": "stdout",
     "output_type": "stream",
     "text": [
      " On obtient la réalisation suivante pour $\\Delta W$ : [ 0.025 -0.291 -0.23  -0.345 -0.056  0.501 -0.504  0.241  0.352 -0.56 ] \n"
     ]
    }
   ],
   "source": [
    "def Simu_DeltaW(m, delta):\n",
    "    if m%2 == 0:\n",
    "        y = Simu_G2(int(m//2))\n",
    "    else:\n",
    "        y = Simu_G2(int((m+1)//2))[:m]  \n",
    "    return np.sqrt(delta) * y\n",
    "m = 10\n",
    "delta = 0.1\n",
    "print(r\" On obtient la réalisation suivante pour $\\Delta W$ : %s \" % Simu_DeltaW(m, delta).round(3) )"
   ]
  },
  {
   "cell_type": "code",
   "execution_count": 25,
   "metadata": {},
   "outputs": [
    {
     "name": "stdout",
     "output_type": "stream",
     "text": [
      " On obtient la réalisation suivante pour $W$ : [0.643 0.836 0.592 0.914 0.418 0.492 0.302 0.523 0.963 1.329] \n"
     ]
    }
   ],
   "source": [
    "def Simu_W1(m, delta):\n",
    "    deltaw = Simu_DeltaW(m, delta)\n",
    "    return deltaw.cumsum()\n",
    "m = 10\n",
    "delta = 0.1\n",
    "print(r\" On obtient la réalisation suivante pour $W$ : %s \" % Simu_W1(m, delta).round(3) )"
   ]
  },
  {
   "cell_type": "markdown",
   "metadata": {},
   "source": [
    "2. **Simulation d'un vecteur Gaussien 3:** On se replace dans le même cadre que celui de la question 2 et on suppose cette fois que $H$ peut être différent de $1/2$.\n",
    "    1. Ecrire une fonction ``Construire_Sigma`` qui renvoie la matrice de covariance de $W = (W_{t_1},\\ldots, W_{t_m} - W_{t_{m-1}}) $. \n",
    "    2. En utilisant la questions précédente, programmer une fonction ``Simu_W2`` qui génère une réalisation de $W$.\n",
    "    3. On simule ci-dessous plusieurs trajectoires pour différentes valeurs de $H$. Quel est l'effet de H?    "
   ]
  },
  {
   "cell_type": "code",
   "execution_count": 26,
   "metadata": {},
   "outputs": [
    {
     "name": "stdout",
     "output_type": "stream",
     "text": [
      " On obtient la matrice de covariance suivant : [[0.025 0.038 0.047]\n",
      " [0.038 0.076 0.098]\n",
      " [0.047 0.098 0.146]] \n"
     ]
    }
   ],
   "source": [
    "def Construire_Sigma(m,delta,h):\n",
    "    Cov_mat = np.zeros((m,m))\n",
    "    ### time_stamps\n",
    "    t = delta*np.arange(m+1)\n",
    "    t_power2h = t**(2*h)\n",
    "    for i in range(m): \n",
    "        for j in range(i+1): \n",
    "            temp = 0.5 * (t_power2h[i+1] + t_power2h[j+1] - t_power2h[i-j])\n",
    "            Cov_mat[i,j] = temp\n",
    "            Cov_mat[j,i] = temp\n",
    "    return Cov_mat\n",
    "m = 3\n",
    "delta = 0.1\n",
    "h = 0.8\n",
    "print(r\" On obtient la matrice de covariance suivant : %s \" % Construire_Sigma(m,delta,h).round(3) )"
   ]
  },
  {
   "cell_type": "code",
   "execution_count": 27,
   "metadata": {},
   "outputs": [
    {
     "name": "stdout",
     "output_type": "stream",
     "text": [
      " On obtient la réalisation suivante pour X : [ 0.082  0.047  0.112 -0.125 -0.105 -0.336 -0.567 -0.672 -0.772 -0.666] \n"
     ]
    }
   ],
   "source": [
    "def Simu_W2(m, delta, h):\n",
    "    m1 = np.zeros(m) \n",
    "    Sigma1 = Construire_Sigma(m,delta,h)\n",
    "    return Simu_VG(m1, Sigma1)\n",
    "m = 10\n",
    "delta = 0.1\n",
    "h = 0.8\n",
    "print(\" On obtient la réalisation suivante pour X : %s \" % Simu_W2(m, delta, h).round(3) )"
   ]
  },
  {
   "cell_type": "markdown",
   "metadata": {},
   "source": [
    "Le code ci-dessous permet d'observer les trajectoires et de répondre à la dernière question."
   ]
  },
  {
   "cell_type": "code",
   "execution_count": 28,
   "metadata": {},
   "outputs": [
    {
     "name": "stdout",
     "output_type": "stream",
     "text": [
      "\n",
      "\n",
      "\n",
      "\n"
     ]
    },
    {
     "data": {
      "image/png": "[encoded data removed]",
      "text/plain": [
       "<Figure size 864x576 with 1 Axes>"
      ]
     },
     "metadata": {
      "needs_background": "light"
     },
     "output_type": "display_data"
    }
   ],
   "source": [
    "m = 100\n",
    "delta = 0.01\n",
    "h_values = np.arange(0.3,1,0.2)\n",
    "W_values = []\n",
    "for h in h_values:\n",
    "    W_values.append(Simu_W2(m, delta, h))\n",
    "W_values = np.array(W_values)\n",
    "\n",
    "#### Tracer les graphes\n",
    "t = delta*np.arange(m+1)\n",
    "fig = plt.figure( figsize = (12,8))\n",
    "count = 0\n",
    "for h in h_values:\n",
    "    print()\n",
    "    y = np.concatenate([[0],W_values[count]])\n",
    "    plt.plot(t, y, label = \" h : \" + str(h.round(2)))\n",
    "    count += 1\n",
    "plt.grid()\n",
    "plt.legend()\n",
    "plt.show()"
   ]
  },
  {
   "cell_type": "markdown",
   "metadata": {},
   "source": [
    "\n",
    "# Exercice 9: simulation par composition"
   ]
  },
  {
   "cell_type": "markdown",
   "metadata": {},
   "source": [
    "Le but de cet exercice est de simuler une variable $X$ qui s'écrit \n",
    "$$\n",
    "X = p_1 X_1 + \\ldots + p_i X_i + \\ldots p_m X_m, \\qquad p_i \\geq 0, \\quad \\forall i \\in \\{1,\\ldots,m\\}, \\qquad \\sum_{i} p_i = 1,\n",
    "$$\n",
    "où $X_1,\\ldots,X_m$ sont des variables Gaussiennes de moyennes $m_1,\\ldots, m_m$ et de variance $\\sigma^2_1,\\ldots,\\sigma^2_m$.\n",
    "\n",
    "On note $Z$ la variables qui prend les valeurs $\\{1,\\ldots,m\\}$ avec les probabilités\n",
    "$$\n",
    "\\mathbb{P}[Z = i ] = p_i, \\qquad \\forall i \\in \\{1,\\ldots,m\\}.\n",
    "$$\n",
    "1. Montrer que \n",
    "$$\n",
    "X' = X_{Z},\n",
    "$$\n",
    "suit la même loi que $X$. \n",
    "2. En utilisant la question précédente, proposer une fonction ``Simu_Melange`` qui simule une réalisations de $X$."
   ]
  },
  {
   "cell_type": "code",
   "execution_count": 29,
   "metadata": {},
   "outputs": [
    {
     "name": "stdout",
     "output_type": "stream",
     "text": [
      " On obtient la réalisation suivante pour Z : 5.19 \n"
     ]
    }
   ],
   "source": [
    "def Simu_Melange(p,ms,sigmas):\n",
    "    m = p.shape[0]\n",
    "    x = np.arange(m)\n",
    "    z = Simu_D(x,p)\n",
    "    y = ms[z] + sigmas[z] * Simu_G2(1)[0]\n",
    "    return y\n",
    "p = np.array([0.1, 0.2, 0.7])\n",
    "ms = np.array([1, 2, 3])\n",
    "sigmas = np.array([1, 1, 1])\n",
    "print(\" On obtient la réalisation suivante pour Z : %3.2f \" % Simu_Melange(p,ms,sigmas) )"
   ]
  },
  {
   "cell_type": "markdown",
   "metadata": {},
   "source": [
    "# Exercice 10: arrondi de monnaie au Canada"
   ]
  },
  {
   "cell_type": "markdown",
   "metadata": {},
   "source": [
    "En 2012, le Canada a décidé d'arrêter la production et simulation des pièces de $1$ cent. Toutefois il est possible de proposer des prix au cent près, la règle en vigueur pour un paiement en espèce est alors un arrondi au multiple de cinq cents le plus proche.\n",
    "\n",
    "<center>\n",
    "<img src=\"./figures/PennyGraph02_f.jpg\" style=\"width: 600px;\"/>\n",
    "    <i>(Source : Ministère des Finances Canada)</i>\n",
    "</center>\n",
    "\n",
    "**Attention :** La règle essentielle pour ce qui suit est que lorsqu'un paiement concerne plusieurs produits, l'arrondi se fait sur la somme finale :\n",
    "\n",
    "<center>\n",
    "<img src=\"./figures/PennyGraph01_f.jpg\" style=\"width: 600px;\"/>\n",
    "    <i>(Source : Ministère des Finances Canada)</i>\n",
    "</center>\n",
    "\n",
    "\n",
    "* **On se pose la question suivante :**\n",
    "\n",
    "    * **Question:** Est-ce que de manière générale cette règle est plutôt favorable ou défavorable aux clients? (Est-ce que l'on gagne plus ou moins souvent $1$ ou $2$ cents que l'on en perd?)\n",
    "\n",
    "&nbsp;\n",
    "\n",
    "&nbsp;    \n",
    "    \n",
    "* **Modélisation:** Pour répondre à cette question, on introduit le modèle simple suivant. On suppose que tous les clients se comportent de la même manière. Pour un client qui achète $N \\in \\mathbb{N}^*$ produits, on note $R_i$ l'arrondi du panier de notre client après l'achat de $i$ articles et on s'intéresse à $R_N$ l'arrondi du panier à la fin des courses. On remarque \n",
    "    * Si $R_N\\in\\{1,2,6,7\\}$, l'arrondi est favorable au client.\n",
    "    * Si $R_N\\in\\{3,4,8,9\\}$, l'arrondi est favorable au supermarché.\n",
    "\n",
    "&nbsp;\n",
    "\n",
    "* On suppose que \n",
    "$$\n",
    "P_{i,j} = \\mathbb{P}[R_{n+1} = i |R_n = j] = p_{\\big(i-j\\big)\\;\\text{mod}[10]} \n",
    "$$\n",
    "\n",
    "&nbsp;\n",
    "\n",
    "* Une étude empirique a montré que :\n",
    "$$\n",
    "p_0 = 0.071, \\quad\n",
    "p_1 = 0.087, \\quad\n",
    "p_2 = 0.087, \\quad\n",
    "p_3 = 0.024, \\quad\n",
    "p_4 = 0.071, \n",
    "$$\n",
    "$$\n",
    "\\quad p_5 = 0.055, \\quad\n",
    "p_6 = 0.047, \\quad\n",
    "p_7 = 0.346, \\quad\n",
    "p_8 = 0.047, \\quad\n",
    "p_9 = 0.165. \\quad\n",
    "$$\n",
    "\n",
    "&nbsp;\n",
    "\n",
    "1. Dans cette première partie, on suppose que $N> 0$ est un entier fixé. \n",
    "    1. Quelle est le profit $g(R_N)$ que réalise un client grâce à cette règle en fonction de $R_N$?\n",
    "    3. Pour chaque client, on a $R_0 = 0$. Proposer une fonction `Simu_R` qui simule une réalisation de $R_N$.\n",
    "    4. En simulant plusieurs réalisations de la variable $R_N$, programmer une fonction ``Gain_estim_client`` qui estime le gain moyen d'un client. Cette politique est-elle plus en faveur des clients ou non?"
   ]
  },
  {
   "cell_type": "code",
   "execution_count": 30,
   "metadata": {},
   "outputs": [
    {
     "name": "stdout",
     "output_type": "stream",
     "text": [
      " On obtient la réalisation suivante pour R_N : 0.00 \n"
     ]
    }
   ],
   "source": [
    "def Simu_R(N,p):\n",
    "    r = 0\n",
    "    x = np.arange(10)\n",
    "    for i in range(N):\n",
    "        p_bis = np.concatenate([p[10-r:],p[:10-r]])\n",
    "        r = Simu_D(x,p_bis)\n",
    "    return r\n",
    "N = 5\n",
    "p = np.array([0.01, 0.1, 0.1, 0.01, 0.05, \n",
    "     0.01, 0.01, 0.6, 0.01, 0.1])\n",
    "print(\" On obtient la réalisation suivante pour R_N : %3.2f \" % Simu_R(N,p) )"
   ]
  },
  {
   "cell_type": "code",
   "execution_count": 31,
   "metadata": {},
   "outputs": [
    {
     "name": "stdout",
     "output_type": "stream",
     "text": [
      " Le gain estimé est 0.310.\n"
     ]
    }
   ],
   "source": [
    "def g(r):\n",
    "    if (r == 1) or (r == 2) or (r == 6) or (r == 7):\n",
    "        return 10\n",
    "    elif (r == 3) or (r == 4) or (r == 8) or (r == 9):\n",
    "        return -10\n",
    "    else:\n",
    "        return 0\n",
    "    \n",
    "def Gain_estim_client(g):\n",
    "    res = 0.\n",
    "    for i in range(1000):\n",
    "        r = Simu_R(N,p)\n",
    "        res += g(r)\n",
    "    return res/1000.\n",
    "\n",
    "estimated_gain = Gain_estim_client(g)\n",
    "print(\" Le gain estimé est %3.3f.\" % estimated_gain )"
   ]
  },
  {
   "cell_type": "markdown",
   "metadata": {},
   "source": [
    "2. Dans cette partie, on suppose toujours que $N> 0$ est un entier fixé.  \n",
    "    1. Ecrire une fonction ``Contruire_mat_trans`` qui renvoie la matrice de transition $P = (P_{i,j})_{1 \\leq i,j \\leq n}$, i.e.\n",
    "    $$\n",
    "    P =\n",
    "    \\phantom{\\begin{matrix} 0 \\end{matrix}}\n",
    "    \\begin{matrix}\n",
    "    0\\\\ 1 \\\\ 2 \\\\ \\\\ \\vdots \\\\ \\\\ \\\\ \\\\ \\\\ 9\n",
    "    \\end{matrix}\n",
    "    \\begin{pmatrix}\n",
    "    p_0 & p_1 & p_2 & \\dots & & & p_9\\\\\n",
    "    p_9 & p_0 & p_1 & \\dots & & & p_8\\\\\n",
    "    p_8 & p_9 & p_0 & \\dots & & & p_7\\\\\n",
    "     & & & & & & \\\\\n",
    "     & & & & & & \\\\\n",
    "     & &  & \\vdots & & & \\\\\n",
    "      & & & & & & \\\\\n",
    "     & & & & & & \\\\\n",
    "    p_2 & p_3 & p_4  & \\dots & & & p_1\\\\\n",
    "    p_1 & p_2 & p_3   &\\dots & & & p_0\\\\\n",
    "    \\end{pmatrix}.\n",
    "    $$\n",
    "    2. Montrer que le profit moyen d'un client est \n",
    "    $$\n",
    "    \\mathbb{E}[G_N] = e_0 \\times P^N \\times g, \\quad e_0 = \\big(1,0,\\ldots,0\\big), \\quad g = \\big(g(0),\\ldots,g(1)\\big).\n",
    "    $$\n",
    "    3. En utilisant la question précédente, écrire une fonction ``Gain_client`` qui renvoie le gain moyen du client."
   ]
  },
  {
   "cell_type": "code",
   "execution_count": 32,
   "metadata": {},
   "outputs": [
    {
     "name": "stdout",
     "output_type": "stream",
     "text": [
      " La matrice de transition P est : \n",
      " [[0.01 0.1  0.1  0.01 0.05 0.01 0.01 0.6  0.01 0.1 ]\n",
      " [0.1  0.01 0.1  0.1  0.01 0.05 0.01 0.01 0.6  0.01]\n",
      " [0.01 0.1  0.01 0.1  0.1  0.01 0.05 0.01 0.01 0.6 ]\n",
      " [0.6  0.01 0.1  0.01 0.1  0.1  0.01 0.05 0.01 0.01]\n",
      " [0.01 0.6  0.01 0.1  0.01 0.1  0.1  0.01 0.05 0.01]\n",
      " [0.01 0.01 0.6  0.01 0.1  0.01 0.1  0.1  0.01 0.05]\n",
      " [0.05 0.01 0.01 0.6  0.01 0.1  0.01 0.1  0.1  0.01]\n",
      " [0.01 0.05 0.01 0.01 0.6  0.01 0.1  0.01 0.1  0.1 ]\n",
      " [0.1  0.01 0.05 0.01 0.01 0.6  0.01 0.1  0.01 0.1 ]\n",
      " [0.1  0.1  0.01 0.05 0.01 0.01 0.6  0.01 0.1  0.01]] \n"
     ]
    }
   ],
   "source": [
    "def Contruire_mat_trans(p):\n",
    "    ## Covariance Matrix\n",
    "    mat_trans = np.zeros((10,10))\n",
    "    for r in range(10): # i = 2\n",
    "        p_bis = np.concatenate([p[10-r:],p[:10-r]])\n",
    "        mat_trans[r,:] = p_bis\n",
    "    return mat_trans\n",
    "print(\" La matrice de transition P est : \\n %s \" % Contruire_mat_trans(p).round(3) )"
   ]
  },
  {
   "cell_type": "code",
   "execution_count": 33,
   "metadata": {},
   "outputs": [
    {
     "name": "stdout",
     "output_type": "stream",
     "text": [
      "0.30949158\n"
     ]
    }
   ],
   "source": [
    "def Gain_client(p,N):\n",
    "    P = Contruire_mat_trans(p)\n",
    "    P_N = np.linalg.matrix_power(P,N)\n",
    "    g_N = np.zeros(10)\n",
    "    for r in range(10):\n",
    "        g_N[r] = g(r)\n",
    "    return np.dot(P_N[0,:],g_N)\n",
    "print(Gain_client(p,N))"
   ]
  },
  {
   "cell_type": "markdown",
   "metadata": {},
   "source": [
    "3. Dans cette partie, on suppose que le nombre $N$ achetés par un client suit une loi de Poisson de paramètre $\\lambda = 10$ indépendante de $R_N$. En simulant plusieurs réalisations de $R_N$, écrire une fonction ``Gain_estimN_client`` qui estime le gain de l'agent dans ce cas."
   ]
  },
  {
   "cell_type": "code",
   "execution_count": 34,
   "metadata": {},
   "outputs": [
    {
     "name": "stdout",
     "output_type": "stream",
     "text": [
      " Le gain estimé est -0.300.\n"
     ]
    }
   ],
   "source": [
    "def Gain_estimN_client(lambda_0,g):\n",
    "    res = 0.\n",
    "    for i in range(1000):\n",
    "        N = Simu_Poisson(lambda_0)\n",
    "        r = Simu_R(N,p)\n",
    "        res += g(r)\n",
    "    return res/1000.\n",
    "lambda_0 = 20\n",
    "estimated_gain = Gain_estimN_client(lambda_0,g)\n",
    "print(\" Le gain estimé est %3.3f.\" % estimated_gain )"
   ]
  }
 ],
 "metadata": {
  "kernelspec": {
   "display_name": "Python 3",
   "language": "python",
   "name": "python3"
  },
  "language_info": {
   "codemirror_mode": {
    "name": "ipython",
    "version": 3
   },
   "file_extension": ".py",
   "mimetype": "text/x-python",
   "name": "python",
   "nbconvert_exporter": "python",
   "pygments_lexer": "ipython3",
   "version": "3.7.3"
  }
 },
 "nbformat": 4,
 "nbformat_minor": 2
}
